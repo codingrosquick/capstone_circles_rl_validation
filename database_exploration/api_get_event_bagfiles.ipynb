{
 "cells": [
  {
   "cell_type": "markdown",
   "source": [
    "# Imports\n",
    "\n",
    "*notes:*\n",
    "- change this to be a normal python file"
   ],
   "metadata": {
    "collapsed": false
   }
  },
  {
   "cell_type": "code",
   "execution_count": null,
   "outputs": [],
   "source": [
    "import asyncio\n",
    "import subprocess\n",
    "import pandas as pd\n",
    "\n",
    "import strym\n",
    "print(strym.__version__)"
   ],
   "metadata": {
    "collapsed": false,
    "pycharm": {
     "name": "#%%\n"
    }
   }
  },
  {
   "cell_type": "markdown",
   "source": [
    "# Functions from analyse_and_create_db.ipynb"
   ],
   "metadata": {
    "collapsed": false
   }
  },
  {
   "cell_type": "code",
   "execution_count": null,
   "outputs": [],
   "source": [
    "async def async_command_shell(command, verbose: bool = False):\n",
    "    \"\"\"Run command in subprocess (shell).\n",
    "    source: https://fredrikaverpil.github.io/2017/06/20/async-and-await-with-subprocesses/\n",
    "    \"\"\"\n",
    "    # Create subprocess\n",
    "    process = await asyncio.create_subprocess_shell(command, stdout=asyncio.subprocess.PIPE, stderr=asyncio.subprocess.PIPE)\n",
    "    # Status\n",
    "    if verbose:\n",
    "        print(\"Started:\", command, \"(pid = \" + str(process.pid) + \")\", flush=True)\n",
    "    # Wait for the subprocess to finish\n",
    "    stdout, stderr = await process.communicate()\n",
    "    # Output\n",
    "    if process.returncode == 0:\n",
    "        if verbose:\n",
    "            print(\"Done:\", command, \"(pid = \" + str(process.pid) + \")\", flush=True)\n",
    "        return stdout.decode().strip()\n",
    "    else:\n",
    "        if verbose:\n",
    "            print(\"Failed:\", command, \"(pid = \" + str(process.pid) + \")\", flush=True)\n",
    "        raise Exception(stderr.decode().strip())\n",
    "\n",
    "\n",
    "async def iget(file_adress, destination, verbose: bool = False):\n",
    "    '''\n",
    "    wrapper for iRODS iget command\n",
    "    async command using asyncio library\n",
    "    :param file_adress: address on CyVerse fileshare\n",
    "    :param destination: address to download to on the local computer\n",
    "    :return: local address of the file\n",
    "    '''\n",
    "    try:\n",
    "        await async_command_shell(f'iget -T {file_adress} {destination}', verbose=verbose)\n",
    "        local_address = destination + '/' + file_adress.split('/')[-1]\n",
    "        return local_address\n",
    "    except Exception as e:\n",
    "        raise Exception(f'Error while downloading file at:'\n",
    "                        f'\\n\\tremote: {file_adress}'\n",
    "                        f'\\n\\tto local address: {destination}`'\n",
    "                        f'\\n\\tFailing on {e}')\n",
    "\n",
    "\n",
    "def init_cache(local_folder):\n",
    "    '''\n",
    "    clears the cache if exists and initialise it\n",
    "    :param local_folder: root folder for the analysis\n",
    "    :return: temporary cache address\n",
    "    '''\n",
    "    subprocess.run(['cd', local_folder],\n",
    "                   stdout=subprocess.PIPE,\n",
    "                   stderr=subprocess.PIPE,\n",
    "                   universal_newlines=True)\n",
    "    local_folder_absolute = subprocess.run(['pwd'],\n",
    "                   stdout=subprocess.PIPE,\n",
    "                   stderr=subprocess.PIPE,\n",
    "                   universal_newlines=True).stdout.strip()\n",
    "    files = subprocess.run(['ls'],\n",
    "                   stdout=subprocess.PIPE,\n",
    "                   stderr=subprocess.PIPE,\n",
    "                   universal_newlines=True)\n",
    "    files = files.stdout.split(sep='\\n')\n",
    "    if 'temp_cache' in files:\n",
    "        subprocess.run(['rm', '-r', '-f', 'temp_cache'],\n",
    "                   stdout=subprocess.PIPE,\n",
    "                   stderr=subprocess.PIPE,\n",
    "                   universal_newlines=True)\n",
    "    subprocess.run(['mkdir', 'temp_cache'],\n",
    "               stdout=subprocess.PIPE,\n",
    "               stderr=subprocess.PIPE,\n",
    "               universal_newlines=True)\n",
    "    temp_cache_address = f'{local_folder_absolute}/temp_cache'\n",
    "    return temp_cache_address\n"
   ],
   "metadata": {
    "collapsed": false,
    "pycharm": {
     "name": "#%%\n"
    }
   }
  },
  {
   "cell_type": "markdown",
   "source": [
    "# Download and serve file"
   ],
   "metadata": {
    "collapsed": false
   }
  },
  {
   "cell_type": "code",
   "execution_count": null,
   "outputs": [],
   "source": [
    "class FileServer:\n",
    "    \"\"\"\n",
    "    Class handling download and delete of files to be sent to ROS playback\n",
    "    \"\"\"\n",
    "    # attributes\n",
    "    data = None\n",
    "    current_remote_adresses = None\n",
    "    current_event = None\n",
    "    can_local_address = None\n",
    "    gps_local_address = None\n",
    "    # note: first file served after incrementation\n",
    "    index = 0\n",
    "    max_index = None\n",
    "\n",
    "    # methods\n",
    "    def __init__(self, analysis_path):\n",
    "        \"\"\"\n",
    "        Reads from a CSV analysis file\n",
    "        :param analysis_path: string of the path of the CSV taken from the analysis\n",
    "        \"\"\"\n",
    "        self.data = pd.read_csv(analysis_path)\n",
    "\n",
    "    def filter(self, cc_state: [int], speed: {str: int}, vin: [str], date: {str: str}, event_type: [str]):\n",
    "        \"\"\"\n",
    "        filter the rows based on those criteria\n",
    "        :param cc_state: list of acceptable controller state values\n",
    "        :param speed: {min: int min_speed in km/h, max: int max_speed in km/h}\n",
    "        :param vin: list of acceptable vehicle identification numbers\n",
    "        :param date: {beg: date, end: date}, with date as strings, formatted as YYYY-MM-DD-HH-MM-SS\n",
    "        :param event_type: list of acceptable event types. possible event types are:\n",
    "            - car_crossing\n",
    "            - <more to come in the future>\n",
    "        :return: updates self.data to only keep the desirable instances\n",
    "        \"\"\"\n",
    "        self.data = self.data.loc[self.data['event_type'] in event_type]\n",
    "        self.data = self.data.loc[self.data['vin'] in vin]\n",
    "        self.data = self.data.loc[self.data['event_cc_state'] in cc_state]\n",
    "        self.data = self.data.loc[(self.data['event_speed'] >= speed['min'])\n",
    "                                  & (self.data['event_speed'] >= speed['min'])]\n",
    "        self.data = self.data.loc[(self.data['date'] >= date['min'])\n",
    "                                  & (self.data['date'] >= date['min'])]\n",
    "        self.max_index = len(self.data)\n",
    "\n",
    "    def __str__(self):\n",
    "        if self.max_index is None:\n",
    "            return f'FileServer filtering is not finished'\n",
    "        else:\n",
    "            return f'file server with {self.max_index} files ready to be served, current index is: {self.index}'\n",
    "\n",
    "    async def next(self, ignore_gps_file: bool = False):\n",
    "        \"\"\"\n",
    "        clears cache & downloads the next couple of files\n",
    "        :param: ignore_gps_file: set to True to avoid downloading the GPS file\n",
    "        :return: - object with paths to the downloaded CAN and GPS file\n",
    "        {'can': str, 'gps': str, 'remote_addresses': {'can': str, 'gps': str}}\n",
    "                 - if the maximum index is reached, returns an exception as:\n",
    "        Exception('max_index')\n",
    "        \"\"\"\n",
    "        try:\n",
    "            if self.index < self.max_index:\n",
    "                cache = init_cache('database_exploration')\n",
    "                self.current_event = self.data[self.index]\n",
    "                self.current_remote_adresses = self.current_event['remote_addresses']\n",
    "\n",
    "                self.can_local_address = await iget(self.current_remote_adresses['can'], cache)\n",
    "                if ignore_gps_file:\n",
    "                    self.gps_local_address = None\n",
    "                else:\n",
    "                    self.gps_local_address = await iget(self.current_remote_adresses['gps'], cache)\n",
    "\n",
    "                self.index += 1\n",
    "\n",
    "                return {\n",
    "                    'can': self.can_local_address,\n",
    "                    'gps': self.gps_local_address,\n",
    "                }\n",
    "            else:\n",
    "                raise Exception('max_index')\n",
    "\n",
    "        except Exception as e:\n",
    "            raise Exception(f'Downloading next file failed on {e}')\n",
    "\n",
    "    def clear(self):\n",
    "        cache = init_cache('database_exploration')\n",
    "        print('Cache cleared')\n"
   ],
   "metadata": {
    "collapsed": false,
    "pycharm": {
     "name": "#%%\n"
    }
   }
  },
  {
   "cell_type": "markdown",
   "source": [
    "# Can to bagfile"
   ],
   "metadata": {
    "collapsed": false
   }
  },
  {
   "cell_type": "code",
   "execution_count": null,
   "outputs": [],
   "source": [
    "\n"
   ],
   "metadata": {
    "collapsed": false,
    "pycharm": {
     "name": "#%%\n"
    }
   }
  },
  {
   "cell_type": "markdown",
   "source": [
    "# 1 file serving (automate this with an inner state of file handler out of a notebook?)\n",
    "### handle here the file cutting?"
   ],
   "metadata": {
    "collapsed": false
   }
  },
  {
   "cell_type": "code",
   "execution_count": null,
   "outputs": [],
   "source": [
    "\n"
   ],
   "metadata": {
    "collapsed": false,
    "pycharm": {
     "name": "#%%\n"
    }
   }
  }
 ],
 "metadata": {
  "kernelspec": {
   "display_name": "Python 3",
   "language": "python",
   "name": "python3"
  },
  "language_info": {
   "codemirror_mode": {
    "name": "ipython",
    "version": 2
   },
   "file_extension": ".py",
   "mimetype": "text/x-python",
   "name": "python",
   "nbconvert_exporter": "python",
   "pygments_lexer": "ipython2",
   "version": "2.7.6"
  }
 },
 "nbformat": 4,
 "nbformat_minor": 0
}