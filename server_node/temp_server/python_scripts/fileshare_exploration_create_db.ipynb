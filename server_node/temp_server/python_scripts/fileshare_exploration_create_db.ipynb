{
 "cells": [
  {
   "cell_type": "markdown",
   "metadata": {
    "pycharm": {
     "name": "#%% md\n"
    }
   },
   "source": [
    "# Imports\n",
    "\n",
    "*notes:*\n",
    "- everything is sequentially made in this file because strymread can only be launched within jupyter notebooks -> verify this for this part\n",
    "- keep only the things for this!!!\n",
    "- find how to send and use the parameters"
   ]
  },
  {
   "cell_type": "code",
   "execution_count": 4,
   "metadata": {
    "pycharm": {
     "name": "#%%\n"
    }
   },
   "outputs": [
    {
     "name": "stdout",
     "output_type": "stream",
     "text": [
      "0.4.3\n"
     ]
    }
   ],
   "source": [
    "import asyncio\n",
    "import subprocess\n",
    "import numpy as np\n",
    "import pandas as pd\n",
    "from datetime import datetime\n",
    "import ast"
   ]
  },
  {
   "cell_type": "markdown",
   "metadata": {},
   "source": [
    "# Function definitions\n",
    "\n",
    "## iRODS command wrappers"
   ]
  },
  {
   "cell_type": "code",
   "execution_count": 5,
   "metadata": {
    "pycharm": {
     "name": "#%%\n"
    }
   },
   "outputs": [],
   "source": [
    "def ils():\n",
    "    '''\n",
    "    wrapper for iRODS ils command\n",
    "    :return: list of files and folder in the current folder\n",
    "    '''\n",
    "    process_files = subprocess.run(['ils'],\n",
    "                                   stdout=subprocess.PIPE,\n",
    "                                   stderr=subprocess.PIPE,\n",
    "                                   universal_newlines=True)\n",
    "    files = process_files.stdout.split(sep='\\n')[1:-1]\n",
    "    return [f.strip() for f in files]\n",
    "\n",
    "\n",
    "def icd(destination):\n",
    "    '''\n",
    "    wrapper for iRODS icd command\n",
    "    :param destination: destination to which go to\n",
    "    :return: subprocess output\n",
    "    '''\n",
    "    return subprocess.run(['icd', destination],\n",
    "                          stdout=subprocess.PIPE,\n",
    "                          stderr=subprocess.PIPE,\n",
    "                          universal_newlines=True)\n",
    "\n",
    "\n",
    "def ipwd():\n",
    "    '''\n",
    "    wrapper for iRODS ipwd command\n",
    "    :return: current directory on CyVerse\n",
    "    '''\n",
    "    pwd = subprocess.run(['ipwd'],\n",
    "                          stdout=subprocess.PIPE,\n",
    "                          stderr=subprocess.PIPE,\n",
    "                          universal_newlines=True)\n",
    "    out = pwd.stdout.strip().strip('\\n')\n",
    "    print('pwd output is:', out)\n",
    "    return out\n"
   ]
  },
  {
   "cell_type": "markdown",
   "metadata": {},
   "source": [
    "## Cache handling"
   ]
  },
  {
   "cell_type": "code",
   "execution_count": 6,
   "metadata": {
    "pycharm": {
     "name": "#%%\n"
    }
   },
   "outputs": [],
   "source": [
    "async def async_command_shell(command, verbose: bool = False):\n",
    "    \"\"\"Run command in subprocess (shell).\n",
    "    source: https://fredrikaverpil.github.io/2017/06/20/async-and-await-with-subprocesses/\n",
    "    \"\"\"\n",
    "    # Create subprocess\n",
    "    process = await asyncio.create_subprocess_shell(command, stdout=asyncio.subprocess.PIPE, stderr=asyncio.subprocess.PIPE)\n",
    "    # Status\n",
    "    if verbose:\n",
    "        print(\"Started:\", command, \"(pid = \" + str(process.pid) + \")\", flush=True)\n",
    "    # Wait for the subprocess to finish\n",
    "    stdout, stderr = await process.communicate()\n",
    "    # Output\n",
    "    if process.returncode == 0:\n",
    "        if verbose:\n",
    "            print(\"Done:\", command, \"(pid = \" + str(process.pid) + \")\", flush=True)\n",
    "        return stdout.decode().strip()\n",
    "    else:\n",
    "        if verbose:\n",
    "            print(\"Failed:\", command, \"(pid = \" + str(process.pid) + \")\", flush=True)\n",
    "        raise Exception(stderr.decode().strip())\n",
    "\n",
    "\n",
    "async def iget(file_adress, destination, verbose: bool = False):\n",
    "    '''\n",
    "    wrapper for iRODS iget command\n",
    "    async command using asyncio library\n",
    "    :param file_adress: address on CyVerse fileshare\n",
    "    :param destination: address to download to on the local computer\n",
    "    :return: local address of the file\n",
    "    '''\n",
    "    try:\n",
    "        await async_command_shell(f'iget -T {file_adress} {destination}', verbose=verbose)\n",
    "        local_address = destination + '/' + file_adress.split('/')[-1]\n",
    "        return local_address\n",
    "    except Exception as e:\n",
    "        raise Exception(f'Error while downloading file at:'\n",
    "                        f'\\n\\tremote: {file_adress}'\n",
    "                        f'\\n\\tto local address: {destination}`'\n",
    "                        f'\\n\\tFailing on {e}')\n",
    "\n",
    "\n",
    "def init_cache(local_folder):\n",
    "    '''\n",
    "    clears the cache if exists and initialise it\n",
    "    :param local_folder: root folder for the analysis\n",
    "    :return: temporary cache address\n",
    "    '''\n",
    "    if local_folder != '':\n",
    "        subprocess.run(['cd', local_folder],\n",
    "                       stdout=subprocess.PIPE,\n",
    "                       stderr=subprocess.PIPE,\n",
    "                       universal_newlines=True)\n",
    "    local_folder_absolute = subprocess.run(['pwd'],\n",
    "                   stdout=subprocess.PIPE,\n",
    "                   stderr=subprocess.PIPE,\n",
    "                   universal_newlines=True).stdout.strip()\n",
    "    files = subprocess.run(['ls'],\n",
    "                   stdout=subprocess.PIPE,\n",
    "                   stderr=subprocess.PIPE,\n",
    "                   universal_newlines=True)\n",
    "    files = files.stdout.split(sep='\\n')\n",
    "    if 'temp_cache' in files:\n",
    "        subprocess.run(['rm', '-r', '-f', 'temp_cache'],\n",
    "                   stdout=subprocess.PIPE,\n",
    "                   stderr=subprocess.PIPE,\n",
    "                   universal_newlines=True)\n",
    "    subprocess.run(['mkdir', 'temp_cache'],\n",
    "               stdout=subprocess.PIPE,\n",
    "               stderr=subprocess.PIPE,\n",
    "               universal_newlines=True)\n",
    "    temp_cache_address = f'{local_folder_absolute}/temp_cache'\n",
    "    return temp_cache_address\n"
   ]
  },
  {
   "cell_type": "markdown",
   "metadata": {},
   "source": [
    "## Fileshare exploration"
   ]
  },
  {
   "cell_type": "code",
   "execution_count": 7,
   "metadata": {
    "pycharm": {
     "name": "#%%\n"
    }
   },
   "outputs": [],
   "source": [
    "def findall_files(root, verbose: bool = False):\n",
    "    '''\n",
    "    finds all files within the root directory and recursively below\n",
    "    :param root: str, root file from which to begin the search\n",
    "    :param verbose: bool, set to True to see fuller logs\n",
    "    :return: List<str>\n",
    "    '''\n",
    "    dir_queue = [root]\n",
    "    files = []\n",
    "\n",
    "    while len(dir_queue) != 0:\n",
    "        current_dir = dir_queue.pop()\n",
    "        icd(current_dir)\n",
    "        queue = ils()\n",
    "        if verbose:\n",
    "            print('---------')\n",
    "            print('current queue dir: ', dir_queue)\n",
    "            print('current directory is: ', current_dir)\n",
    "            print('current file queue is: ', queue)\n",
    "\n",
    "        for f in queue:\n",
    "            if verbose:\n",
    "                print('current file tests on: ', f, ' and test gives f[0:2]: ', f[0:2], ' and f[-4:] is: ', f[-4:])\n",
    "            # avoid dashcams and bafiles folders, only use the libpanda ones -> reduces the number of files to scan for\n",
    "            if f[0:2] == 'C-' and 'bagfiles' not in f and 'dashcams' not in f:\n",
    "                dir_queue.append(f[3:])\n",
    "                if verbose:\n",
    "                    print('appending dir queue; ', f)\n",
    "            elif f[-4:] == '.csv':\n",
    "                # We also conserve the current folder to get the entire path to the file\n",
    "                current_folder = ipwd()\n",
    "                files.append(f'{current_folder}/{f}')\n",
    "                if verbose:\n",
    "                    print('appending file; ', f)\n",
    "\n",
    "        if verbose:\n",
    "            print('found ', len(files), ' files')\n",
    "\n",
    "    return files\n",
    "\n",
    "\n",
    "def can_gps_coupling(files):\n",
    "    '''\n",
    "    links the CAN and GPS from same acquisitions\n",
    "    :param files: array of file adresses\n",
    "    :return: List<{'can': str, 'gps': str || None}>\n",
    "    '''\n",
    "    file_list = []\n",
    "    for file in files:\n",
    "        if '_CAN_Messages.csv' in file:\n",
    "            file_list.append({'can': file, 'gps': None})\n",
    "\n",
    "    for i in range(len(file_list)):\n",
    "        file_gps = file_list[i]['can'][0:-17] + '_GPS_Messages.csv'\n",
    "        if file_gps in files:\n",
    "            file_list[i]['gps'] = file_gps\n",
    "\n",
    "    return file_list\n"
   ]
  },
  {
   "cell_type": "markdown",
   "metadata": {},
   "source": [
    "## File handler & cache"
   ]
  },
  {
   "cell_type": "code",
   "execution_count": 9,
   "metadata": {
    "pycharm": {
     "name": "#%%\n"
    }
   },
   "outputs": [],
   "source": [
    "class FileHandler:\n",
    "    \"\"\"\n",
    "    Class handling download and delete of files to be analyzed\n",
    "    \"\"\"\n",
    "    # attributes\n",
    "    all_files = None\n",
    "    coupled_files = None\n",
    "    local_root_folder = None\n",
    "    remote_addresses = None\n",
    "    can_local_address = None\n",
    "    gps_local_address = None\n",
    "    index = None\n",
    "    max_index = None\n",
    "\n",
    "    # methods\n",
    "    def __init__(self, local_root_folder, start_index: int = 0):\n",
    "        \"\"\"\n",
    "        :param local_root_folder: Local root for the download folder\n",
    "        \"\"\"\n",
    "        self.local_root_folder = local_root_folder\n",
    "        self.index = start_index\n",
    "        print('File Handler ready for file exploration')\n",
    "\n",
    "    def explore(self, analyze: bool = True, root: str = '', exploration_name = None,\n",
    "                 previous_exploration_path = None, verbose: bool = False):\n",
    "        \"\"\"\n",
    "        Initialises the path objects, then file handler attributes\n",
    "\n",
    "        :param analyze: True if you want to explore files from CyVerse,\n",
    "        False if you want to use a file giving the coupled files from a previous FileShare exploration\n",
    "        :param root: root of the search for exploring on CyVerse\n",
    "        :param exploration_name: name for the coupled file local copy\n",
    "        :param previous_exploration_path: local address towards the file giving the coupled files from a previous\n",
    "        FileShare exploration\n",
    "\n",
    "        TODO: include a call to an iinit irods function\n",
    "        \"\"\"\n",
    "        # case of file share exploration\n",
    "        if analyze:\n",
    "            try:\n",
    "                self.all_files = findall_files(root, verbose)\n",
    "                self.coupled_files = can_gps_coupling(self.all_files)\n",
    "                self.max_index = len(self.coupled_files)\n",
    "                # save the csv file\n",
    "                output_filename = coupled_files_file_namer(exploration_name, root)\n",
    "                df = pd.DataFrame(data={'Files': self.coupled_files})\n",
    "                df.to_csv(path_or_buf=f'results/{output_filename}')\n",
    "                if verbose:\n",
    "                    print('exploration logged as: ', output_filename)\n",
    "            except Exception as e:\n",
    "                print(f'CyVerse FileShare exploration failed on: {e}')\n",
    "\n",
    "        # case of using a file to get the coupled addresses\n",
    "        else:\n",
    "            try:\n",
    "                df = pd.read_csv(previous_exploration_path)\n",
    "                self.coupled_files = df['Files']\n",
    "                self.max_index = len(self.coupled_files)\n",
    "            except Exception as e:\n",
    "                print(f'retrieving from file at {previous_exploration_path} failed on: {e}')\n",
    "\n",
    "\n",
    "    def __str__(self):\n",
    "        if self.max_index is None:\n",
    "            return f'FileShare exploration is not finished'\n",
    "        else:\n",
    "            return f'file handler with {self.max_index} couples, current index is: {self.index}'\n",
    "\n",
    "\n",
    "    async def next(self, ignore_gps_file: bool = False):\n",
    "        \"\"\"\n",
    "        clears cache & downloads the next couple of files\n",
    "        :param: ignore_gps_file: set to True to avoid downloading the GPS file\n",
    "        :return: - object with paths to the downloaded CAN and GPS file\n",
    "        {'can': str, 'gps': str, 'remote_addresses': {'can': str, 'gps': str}}\n",
    "                 - if the maximum index is reached, returns an exception as:\n",
    "        Exception('max_index')\n",
    "        \"\"\"\n",
    "        try:\n",
    "            if self.index < self.max_index:\n",
    "                cache = init_cache(self.local_root_folder)\n",
    "                next_file = self.coupled_files[self.index]\n",
    "                if type(next_file) == type('string'):\n",
    "                    self.remote_addresses = ast.literal_eval(next_file)\n",
    "                else:\n",
    "                    self.remote_addresses = self.coupled_files[self.index]\n",
    "\n",
    "                self.can_local_address = await iget(self.remote_addresses['can'], cache)\n",
    "                if ignore_gps_file:\n",
    "                    self.gps_local_address = None\n",
    "                else:\n",
    "                    self.gps_local_address = await iget(self.remote_addresses['gps'], cache)\n",
    "\n",
    "                self.index += 1\n",
    "\n",
    "                return {\n",
    "                    'can': self.can_local_address,\n",
    "                    'gps': self.gps_local_address,\n",
    "                    'remote_addresses': self.remote_addresses\n",
    "                }\n",
    "            else:\n",
    "                raise Exception('max_index')\n",
    "\n",
    "        except Exception as e:\n",
    "            raise Exception(f'Downloading next file failed on {e}')\n",
    "\n",
    "    def clear(self):\n",
    "        init_cache(self.local_root_folder)\n",
    "        print('Cache cleared')\n",
    "\n",
    "def coupled_files_file_namer(name, root):\n",
    "    return f'file_exploration&{name}&create_on={str(datetime.now()).replace(\" \", \"_\")}&root={root.replace(\"/\", \"_\")}.csv'\n"
   ]
  },
  {
   "cell_type": "code",
   "execution_count": null,
   "metadata": {},
   "outputs": [],
   "source": [
    "# TO CALL TO PERFORM THE FILE EXPLORATION:\n",
    "'''\n",
    "options = {\n",
    "    # 'local_root_folder': , # where to DL in local -> need to be defined globally\n",
    "    # 'start_index': 0, # can be set otherwise if specified?\n",
    "    # 'analyze': True, # this is because this triggers a file exploration on cyverse!\n",
    "    'root': \"\", # root for analysis on CyVerse\n",
    "    'exploration_name': \"\", # name to give to the file\n",
    "    # -> nb: get this name from python to JS?\n",
    "    # 'verbose': , # bool value - set to True for now, change later if needed\n",
    "}\n",
    "\n",
    "\n",
    "fh = FileHandler(local_root_folder, start_index: int = 0)\n",
    "fh.explore(analyze = options.analyze, root = '', exploration_name = None, verbose = False)\n",
    "'''\n"
   ]
  },
  {
   "cell_type": "code",
   "execution_count": null,
   "metadata": {},
   "outputs": [],
   "source": [
    "print('NOTE BOOK RAN')"
   ]
  }
 ],
 "metadata": {
  "kernelspec": {
   "display_name": "Python 3",
   "language": "python",
   "name": "python3"
  },
  "language_info": {
   "codemirror_mode": {
    "name": "ipython",
    "version": 3
   },
   "file_extension": ".py",
   "mimetype": "text/x-python",
   "name": "python",
   "nbconvert_exporter": "python",
   "pygments_lexer": "ipython3",
   "version": "3.8.6"
  }
 },
 "nbformat": 4,
 "nbformat_minor": 4
}
