{
 "cells": [
  {
   "cell_type": "code",
   "execution_count": 17,
   "id": "df02cd45",
   "metadata": {},
   "outputs": [],
   "source": [
    "#!pip install strym"
   ]
  },
  {
   "cell_type": "code",
   "execution_count": 18,
   "id": "b1f3732f",
   "metadata": {},
   "outputs": [],
   "source": [
    "from strym import strymread\n",
    "from strym import strymmap"
   ]
  },
  {
   "cell_type": "code",
   "execution_count": 19,
   "id": "ff007c1e",
   "metadata": {},
   "outputs": [
    {
     "data": {
      "text/plain": "'0.4.11'"
     },
     "execution_count": 19,
     "metadata": {},
     "output_type": "execute_result"
    }
   ],
   "source": [
    "import strym\n",
    "strym.__version__"
   ]
  },
  {
   "cell_type": "code",
   "execution_count": 26,
   "id": "efc3d5e0",
   "metadata": {},
   "outputs": [
    {
     "name": "stdout",
     "output_type": "stream",
     "text": [
      "Provided csvfile: /home/sprinkjm/publishable-circles/2T3H1RFV8LC057037/libpanda/2021_08_06/2021-08-06-10-31-30_2T3H1RFV8LC057037_CAN_Messages.csv doesn't exist, or read permission error\n"
     ]
    }
   ],
   "source": [
    "# Original code by rahul\n",
    "\n",
    "# folder = '/home/refulgent/Cyverse/publishable-circles/2T3H1RFV8LC057037/libpanda/2021_07_28/'\n",
    "# file = '2021-07-28-21-07-37_2T3H1RFV8LC057037_CAN_Messages.png'\n",
    "# s = strymread(csvfile=folder + file)\n",
    "\n",
    "\n",
    "# data from real test 6th August is there:\n",
    "\n",
    "#     CAN & GPS data\n",
    "# https://de.cyverse.org/data/ds/iplant\n",
    "# /home/sprinkjm/publishable-circles/2T3H1RFV8LC057037/libpanda/2021_08_06/\n",
    "#     bagfiles and csv\n",
    "# https://de.cyverse.org/data/ds/iplant\n",
    "# /home/sprinkjm/publishable-circles/2T3H1RFV8LC057037/bagfiles/2021_08_06/\n",
    "\n",
    "\n",
    "# test data loading libpanda\n",
    "# folder = '/home/sprinkjm/publishable-circles/2T3H1RFV8LC057037/bagfiles/2021_08_06/'\n",
    "# file = '2021_08_06_00_46_52_2T3H1RFV8LC057037following_real_vehicle_rl0805v3_FSMAX_enable_true.bag'\n",
    "\n",
    "# test data loading CAN Message\n",
    "folder = '/home/sprinkjm/publishable-circles/2T3H1RFV8LC057037/libpanda/2021_08_06/'\n",
    "file = '2021-08-06-10-31-30_2T3H1RFV8LC057037_CAN_Messages.csv'\n",
    "\n",
    "\n",
    "s = strymread(csvfile=folder + file)\n",
    "# just doesn't find the files... CyVerse/strym login?"
   ]
  },
  {
   "cell_type": "code",
   "execution_count": 25,
   "id": "8ad21f96",
   "metadata": {},
   "outputs": [
    {
     "data": {
      "text/plain": "False"
     },
     "execution_count": 25,
     "metadata": {},
     "output_type": "execute_result"
    }
   ],
   "source": [
    "s.success"
   ]
  },
  {
   "cell_type": "code",
   "execution_count": 22,
   "id": "ee987f6e",
   "metadata": {},
   "outputs": [
    {
     "ename": "FileNotFoundError",
     "evalue": "[Errno 2] No such file or directory: '/home/sprinkjm/publishable-circles/2T3H1RFV8LC057037/libpanda/2021_08_06/2021-07-28-21-07-37_2T3H1RFV8LC057037_GPS_Messages.csv'",
     "output_type": "error",
     "traceback": [
      "\u001B[0;31m---------------------------------------------------------------------------\u001B[0m",
      "\u001B[0;31mFileNotFoundError\u001B[0m                         Traceback (most recent call last)",
      "\u001B[0;32m/var/folders/hl/z5cl05zs2415mcd5gg57tb240000gn/T/ipykernel_33690/1161721529.py\u001B[0m in \u001B[0;36m<module>\u001B[0;34m\u001B[0m\n\u001B[1;32m      1\u001B[0m \u001B[0mgpsfile\u001B[0m \u001B[0;34m=\u001B[0m \u001B[0;34m'2021-07-28-21-07-37_2T3H1RFV8LC057037_GPS_Messages.csv'\u001B[0m\u001B[0;34m\u001B[0m\u001B[0;34m\u001B[0m\u001B[0m\n\u001B[0;32m----> 2\u001B[0;31m \u001B[0mg\u001B[0m \u001B[0;34m=\u001B[0m \u001B[0mstrymmap\u001B[0m\u001B[0;34m(\u001B[0m\u001B[0mcsvfile\u001B[0m \u001B[0;34m=\u001B[0m \u001B[0mfolder\u001B[0m \u001B[0;34m+\u001B[0m \u001B[0mgpsfile\u001B[0m\u001B[0;34m)\u001B[0m\u001B[0;34m\u001B[0m\u001B[0;34m\u001B[0m\u001B[0m\n\u001B[0m\u001B[1;32m      3\u001B[0m \u001B[0;34m\u001B[0m\u001B[0m\n",
      "\u001B[0;32m~/Documents/03_Berkeley_EECS/cours/Capstone_RL_validation/capstone_circles_rl_validation/venv/lib/python3.7/site-packages/strym/strymmap.py\u001B[0m in \u001B[0;36m__init__\u001B[0;34m(self, csvfile, **kwargs)\u001B[0m\n\u001B[1;32m    166\u001B[0m         \u001B[0mself\u001B[0m\u001B[0;34m.\u001B[0m\u001B[0msuccess\u001B[0m \u001B[0;34m=\u001B[0m \u001B[0;32mFalse\u001B[0m\u001B[0;34m\u001B[0m\u001B[0;34m\u001B[0m\u001B[0m\n\u001B[1;32m    167\u001B[0m         \u001B[0;31m# if file size is less than 60 bytes, return without processing\u001B[0m\u001B[0;34m\u001B[0m\u001B[0;34m\u001B[0m\u001B[0;34m\u001B[0m\u001B[0m\n\u001B[0;32m--> 168\u001B[0;31m         \u001B[0;32mif\u001B[0m \u001B[0mos\u001B[0m\u001B[0;34m.\u001B[0m\u001B[0mpath\u001B[0m\u001B[0;34m.\u001B[0m\u001B[0mgetsize\u001B[0m\u001B[0;34m(\u001B[0m\u001B[0mcsvfile\u001B[0m\u001B[0;34m)\u001B[0m \u001B[0;34m<\u001B[0m \u001B[0;36m60\u001B[0m\u001B[0;34m:\u001B[0m\u001B[0;34m\u001B[0m\u001B[0;34m\u001B[0m\u001B[0m\n\u001B[0m\u001B[1;32m    169\u001B[0m             \u001B[0mprint\u001B[0m\u001B[0;34m(\u001B[0m\u001B[0;34m\"Nothing significant to read in {}. No further analysis is warranted.\"\u001B[0m\u001B[0;34m.\u001B[0m\u001B[0mformat\u001B[0m\u001B[0;34m(\u001B[0m\u001B[0mcsvfile\u001B[0m\u001B[0;34m)\u001B[0m\u001B[0;34m)\u001B[0m\u001B[0;34m\u001B[0m\u001B[0;34m\u001B[0m\u001B[0m\n\u001B[1;32m    170\u001B[0m             \u001B[0;32mreturn\u001B[0m\u001B[0;34m\u001B[0m\u001B[0;34m\u001B[0m\u001B[0m\n",
      "\u001B[0;32m/usr/local/Cellar/python@3.7/3.7.12_1/Frameworks/Python.framework/Versions/3.7/lib/python3.7/genericpath.py\u001B[0m in \u001B[0;36mgetsize\u001B[0;34m(filename)\u001B[0m\n\u001B[1;32m     48\u001B[0m \u001B[0;32mdef\u001B[0m \u001B[0mgetsize\u001B[0m\u001B[0;34m(\u001B[0m\u001B[0mfilename\u001B[0m\u001B[0;34m)\u001B[0m\u001B[0;34m:\u001B[0m\u001B[0;34m\u001B[0m\u001B[0;34m\u001B[0m\u001B[0m\n\u001B[1;32m     49\u001B[0m     \u001B[0;34m\"\"\"Return the size of a file, reported by os.stat().\"\"\"\u001B[0m\u001B[0;34m\u001B[0m\u001B[0;34m\u001B[0m\u001B[0m\n\u001B[0;32m---> 50\u001B[0;31m     \u001B[0;32mreturn\u001B[0m \u001B[0mos\u001B[0m\u001B[0;34m.\u001B[0m\u001B[0mstat\u001B[0m\u001B[0;34m(\u001B[0m\u001B[0mfilename\u001B[0m\u001B[0;34m)\u001B[0m\u001B[0;34m.\u001B[0m\u001B[0mst_size\u001B[0m\u001B[0;34m\u001B[0m\u001B[0;34m\u001B[0m\u001B[0m\n\u001B[0m\u001B[1;32m     51\u001B[0m \u001B[0;34m\u001B[0m\u001B[0m\n\u001B[1;32m     52\u001B[0m \u001B[0;34m\u001B[0m\u001B[0m\n",
      "\u001B[0;31mFileNotFoundError\u001B[0m: [Errno 2] No such file or directory: '/home/sprinkjm/publishable-circles/2T3H1RFV8LC057037/libpanda/2021_08_06/2021-07-28-21-07-37_2T3H1RFV8LC057037_GPS_Messages.csv'"
     ]
    }
   ],
   "source": [
    "gpsfile = '2021-07-28-21-07-37_2T3H1RFV8LC057037_GPS_Messages.csv'\n",
    "g = strymmap(csvfile = folder + gpsfile)"
   ]
  },
  {
   "cell_type": "code",
   "execution_count": 23,
   "id": "c08457d7",
   "metadata": {},
   "outputs": [
    {
     "ename": "AttributeError",
     "evalue": "'strymread' object has no attribute 'dataframe'",
     "output_type": "error",
     "traceback": [
      "\u001B[0;31m---------------------------------------------------------------------------\u001B[0m",
      "\u001B[0;31mAttributeError\u001B[0m                            Traceback (most recent call last)",
      "\u001B[0;32m/var/folders/hl/z5cl05zs2415mcd5gg57tb240000gn/T/ipykernel_33690/688481870.py\u001B[0m in \u001B[0;36m<module>\u001B[0;34m\u001B[0m\n\u001B[0;32m----> 1\u001B[0;31m \u001B[0ms\u001B[0m\u001B[0;34m.\u001B[0m\u001B[0mdataframe\u001B[0m\u001B[0;34m\u001B[0m\u001B[0;34m\u001B[0m\u001B[0m\n\u001B[0m\u001B[1;32m      2\u001B[0m \u001B[0;34m\u001B[0m\u001B[0m\n",
      "\u001B[0;31mAttributeError\u001B[0m: 'strymread' object has no attribute 'dataframe'"
     ]
    }
   ],
   "source": [
    "s.dataframe"
   ]
  },
  {
   "cell_type": "code",
   "execution_count": null,
   "id": "7ad11149",
   "metadata": {},
   "outputs": [],
   "source": [
    "g.dataframe"
   ]
  },
  {
   "cell_type": "code",
   "execution_count": null,
   "id": "c221dbc2",
   "metadata": {},
   "outputs": [],
   "source": [
    "msg_610 = s.get_ts(msg='EPS_STATUS', signal='LKA_STATE', verbose=True)\n",
    "msg_610"
   ]
  },
  {
   "cell_type": "code",
   "execution_count": null,
   "id": "0a0f12ae",
   "metadata": {},
   "outputs": [],
   "source": [
    "strym.config['interactive'] = False"
   ]
  },
  {
   "cell_type": "code",
   "execution_count": null,
   "id": "f8b70b67",
   "metadata": {},
   "outputs": [],
   "source": [
    "strymread.plt_ts(msg_610, title='Message 610, LKA STATE',)"
   ]
  },
  {
   "cell_type": "code",
   "execution_count": null,
   "id": "bfa4bceb",
   "metadata": {},
   "outputs": [],
   "source": [
    "speed = s.speed()\n",
    "speed"
   ]
  },
  {
   "cell_type": "code",
   "execution_count": null,
   "id": "5fa3e691",
   "metadata": {},
   "outputs": [],
   "source": [
    "s.plt_ts(df=speed, title='SPEED')"
   ]
  },
  {
   "cell_type": "code",
   "execution_count": null,
   "id": "cfae40e7",
   "metadata": {},
   "outputs": [],
   "source": [
    "speed_chunk = strymread.create_chunks(df=speed, column_of_interest='Time', plot=True)"
   ]
  },
  {
   "cell_type": "code",
   "execution_count": null,
   "id": "089f6901",
   "metadata": {},
   "outputs": [],
   "source": [
    "s.plt_ts(df=speed_chunk[1], title='SPEED')"
   ]
  },
  {
   "cell_type": "code",
   "execution_count": null,
   "id": "36024eac",
   "metadata": {},
   "outputs": [],
   "source": [
    "strymread.scatterts(speed_chunk, stacked=False)"
   ]
  },
  {
   "cell_type": "code",
   "execution_count": null,
   "id": "5eebb1a8",
   "metadata": {},
   "outputs": [],
   "source": [
    "strymread.ranalyze(speed_chunk[1])"
   ]
  },
  {
   "cell_type": "code",
   "execution_count": null,
   "id": "953b782b",
   "metadata": {},
   "outputs": [],
   "source": [
    "1/0.02"
   ]
  },
  {
   "cell_type": "code",
   "execution_count": null,
   "id": "3563111f",
   "metadata": {},
   "outputs": [],
   "source": [
    "speed_with_bus = s.get_ts(msg='SPEED', signal='SPEED')\n",
    "speed_with_bus"
   ]
  },
  {
   "cell_type": "code",
   "execution_count": null,
   "id": "f0d1c6df",
   "metadata": {},
   "outputs": [],
   "source": [
    "speed_with_bus_0 = speed_with_bus[speed_with_bus['Bus'] == 0]\n",
    "speed_with_bus_0"
   ]
  },
  {
   "cell_type": "code",
   "execution_count": null,
   "id": "d1d09d03",
   "metadata": {},
   "outputs": [],
   "source": [
    "speed_chunk_with_bus = strymread.create_chunks(df=speed_with_bus_0, column_of_interest='Time', plot=True)\n"
   ]
  },
  {
   "cell_type": "code",
   "execution_count": null,
   "id": "6b272ccb",
   "metadata": {},
   "outputs": [],
   "source": [
    "strymread.ranalyze(speed_chunk_with_bus[1])"
   ]
  },
  {
   "cell_type": "code",
   "execution_count": null,
   "id": "7025053a",
   "metadata": {},
   "outputs": [],
   "source": [
    "strymread.scatterts(speed_chunk_with_bus[1])"
   ]
  },
  {
   "cell_type": "code",
   "execution_count": null,
   "id": "8d55910f",
   "metadata": {},
   "outputs": [],
   "source": [
    "msg_869= s.get_ts(msg='DSU_CRUISE', signal='REL_SPEED')\n",
    "strymread.scatterts(msg_869)"
   ]
  },
  {
   "cell_type": "code",
   "execution_count": null,
   "id": "a0ed723f",
   "metadata": {},
   "outputs": [],
   "source": [
    "msg_869_bus_2 = msg_869[msg_869['Bus'] == 2]\n",
    "strymread.scatterts(msg_869_bus_2)"
   ]
  },
  {
   "cell_type": "code",
   "execution_count": null,
   "id": "815c5f74",
   "metadata": {},
   "outputs": [],
   "source": [
    "msg_869_chunk = strymread.create_chunks(df=msg_869_bus_2, column_of_interest='Time', plot=True)"
   ]
  },
  {
   "cell_type": "code",
   "execution_count": null,
   "id": "c1697440",
   "metadata": {},
   "outputs": [],
   "source": [
    "strymread.scatterts(msg_869_chunk[1])"
   ]
  },
  {
   "cell_type": "code",
   "execution_count": null,
   "id": "08f52e59",
   "metadata": {},
   "outputs": [],
   "source": [
    "strymread.ranalyze(msg_869_chunk[1])"
   ]
  },
  {
   "cell_type": "code",
   "execution_count": null,
   "id": "5675e897",
   "metadata": {},
   "outputs": [],
   "source": [
    "speed_resampled, rel_vel_resample = strymread.ts_sync(df1=speed_chunk[1], df2=msg_869_chunk[1], rate='second', method='nearest')\n"
   ]
  },
  {
   "cell_type": "code",
   "execution_count": null,
   "id": "443e4bce",
   "metadata": {},
   "outputs": [],
   "source": [
    "speed_resampled"
   ]
  },
  {
   "cell_type": "code",
   "execution_count": null,
   "id": "a151a5a6",
   "metadata": {},
   "outputs": [],
   "source": [
    "rel_vel_resample"
   ]
  },
  {
   "cell_type": "code",
   "execution_count": null,
   "id": "0befb3b0",
   "metadata": {},
   "outputs": [],
   "source": [
    "strymread.scatterts([speed_resampled, rel_vel_resample ], stacked=False)"
   ]
  },
  {
   "cell_type": "code",
   "execution_count": null,
   "id": "39463846",
   "metadata": {},
   "outputs": [],
   "source": [
    "import pandas as pd\n"
   ]
  },
  {
   "cell_type": "code",
   "execution_count": null,
   "id": "661730bc",
   "metadata": {},
   "outputs": [],
   "source": [
    "leader_vel = pd.DataFrame()\n",
    "leader_vel['Time'] = speed_resampled['Time']\n",
    "leader_vel['Message'] = speed_resampled['Message'] + rel_vel_resample['Message']\n",
    "leader_vel"
   ]
  },
  {
   "cell_type": "code",
   "execution_count": null,
   "id": "af458be5",
   "metadata": {},
   "outputs": [],
   "source": [
    "speed_resampled"
   ]
  },
  {
   "cell_type": "code",
   "execution_count": null,
   "id": "43b8d21d",
   "metadata": {},
   "outputs": [],
   "source": [
    "strymread.scatterts([leader_vel, speed_resampled], stacked=True)"
   ]
  },
  {
   "cell_type": "code",
   "execution_count": null,
   "id": "9918b376",
   "metadata": {},
   "outputs": [],
   "source": [
    "leader_vel"
   ]
  },
  {
   "cell_type": "code",
   "execution_count": null,
   "id": "413be1aa",
   "metadata": {},
   "outputs": [],
   "source": [
    "speed_resampled"
   ]
  },
  {
   "cell_type": "code",
   "execution_count": null,
   "id": "12c6cd24",
   "metadata": {},
   "outputs": [],
   "source": [
    "rel_vel_resample"
   ]
  },
  {
   "cell_type": "code",
   "execution_count": null,
   "id": "d0c30fea",
   "metadata": {},
   "outputs": [],
   "source": []
  }
 ],
 "metadata": {
  "kernelspec": {
   "display_name": "Python 3 (ipykernel)",
   "language": "python",
   "name": "python3"
  },
  "language_info": {
   "codemirror_mode": {
    "name": "ipython",
    "version": 3
   },
   "file_extension": ".py",
   "mimetype": "text/x-python",
   "name": "python",
   "nbconvert_exporter": "python",
   "pygments_lexer": "ipython3",
   "version": "3.9.6"
  }
 },
 "nbformat": 4,
 "nbformat_minor": 5
}